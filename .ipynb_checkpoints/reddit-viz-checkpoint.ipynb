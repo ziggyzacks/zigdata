{
 "cells": [
  {
   "cell_type": "code",
   "execution_count": 62,
   "metadata": {},
   "outputs": [],
   "source": [
    "import pandas as pd\n",
    "import s3fs\n",
    "import numpy as np\n",
    "import networkx as nx\n",
    "\n",
    "from sklearn.feature_extraction.text import CountVectorizer, TfidfVectorizer"
   ]
  },
  {
   "cell_type": "code",
   "execution_count": 9,
   "metadata": {},
   "outputs": [],
   "source": [
    "fs = s3fs.S3FileSystem()\n",
    "\n",
    "path = fs.glob('s3://zigdata.org/reddit-headlines/*')[-1]\n",
    "titles = pd.read_parquet(f\"s3://{path}\")\n",
    "titles['created'] = pd.to_datetime(titles.created_epoch, unit='s')\n",
    "titles['extracted'] = pd.to_datetime(titles.extracted_epoch, unit='s')"
   ]
  },
  {
   "cell_type": "code",
   "execution_count": 56,
   "metadata": {},
   "outputs": [],
   "source": [
    "titles['words'] = titles.title.str.split(' ').apply(len)"
   ]
  },
  {
   "cell_type": "code",
   "execution_count": 60,
   "metadata": {},
   "outputs": [
    {
     "data": {
      "text/plain": [
       "subreddit\n",
       "me_irl        1.011494\n",
       "nsfw          3.071197\n",
       "creepy        4.086957\n",
       "Unexpected    4.485685\n",
       "NSFW_GIF      4.505820\n",
       "Name: words, dtype: float64"
      ]
     },
     "execution_count": 60,
     "metadata": {},
     "output_type": "execute_result"
    }
   ],
   "source": [
    "titles.groupby('subreddit').words.mean().sort_values(ascending=True).head()"
   ]
  },
  {
   "cell_type": "code",
   "execution_count": null,
   "metadata": {},
   "outputs": [],
   "source": [
    "vectorizer = TfidfVectorizer(stop_words=\"english\", max_features=100)\n",
    "X = vectorizer.fit_transform(titles.title)\n",
    "Xc = (X.T * X)\n",
    "Xc.setdiag(0)\n",
    "matrix_dense = Xc.todense()\n",
    "G = nx.from_numpy_matrix(matrix_dense)"
   ]
  }
 ],
 "metadata": {
  "kernelspec": {
   "display_name": "Python 3",
   "language": "python",
   "name": "python3"
  },
  "language_info": {
   "codemirror_mode": {
    "name": "ipython",
    "version": 3
   },
   "file_extension": ".py",
   "mimetype": "text/x-python",
   "name": "python",
   "nbconvert_exporter": "python",
   "pygments_lexer": "ipython3",
   "version": "3.7.0"
  }
 },
 "nbformat": 4,
 "nbformat_minor": 2
}
